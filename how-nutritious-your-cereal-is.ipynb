{
 "cells": [
  {
   "cell_type": "markdown",
   "id": "5fcd9c17",
   "metadata": {
    "papermill": {
     "duration": 0.00931,
     "end_time": "2024-05-11T21:34:46.614829",
     "exception": false,
     "start_time": "2024-05-11T21:34:46.605519",
     "status": "completed"
    },
    "tags": []
   },
   "source": [
    "This a simple data analysis project that dives a little into cereals and their nutritional information"
   ]
  },
  {
   "cell_type": "code",
   "execution_count": 1,
   "id": "a15386de",
   "metadata": {
    "execution": {
     "iopub.execute_input": "2024-05-11T21:34:46.631866Z",
     "iopub.status.busy": "2024-05-11T21:34:46.630850Z",
     "iopub.status.idle": "2024-05-11T21:34:49.014350Z",
     "shell.execute_reply": "2024-05-11T21:34:49.012692Z"
    },
    "papermill": {
     "duration": 2.395344,
     "end_time": "2024-05-11T21:34:49.017346",
     "exception": false,
     "start_time": "2024-05-11T21:34:46.622002",
     "status": "completed"
    },
    "tags": []
   },
   "outputs": [],
   "source": [
    "#Import the main libraries \n",
    "import numpy as np \n",
    "import pandas as pd \n",
    "import matplotlib.pyplot as plt\n",
    "import seaborn as sns"
   ]
  },
  {
   "cell_type": "code",
   "execution_count": 2,
   "id": "841e023d",
   "metadata": {
    "execution": {
     "iopub.execute_input": "2024-05-11T21:34:49.033977Z",
     "iopub.status.busy": "2024-05-11T21:34:49.033378Z",
     "iopub.status.idle": "2024-05-11T21:34:49.068801Z",
     "shell.execute_reply": "2024-05-11T21:34:49.067418Z"
    },
    "papermill": {
     "duration": 0.047441,
     "end_time": "2024-05-11T21:34:49.072147",
     "exception": false,
     "start_time": "2024-05-11T21:34:49.024706",
     "status": "completed"
    },
    "tags": []
   },
   "outputs": [],
   "source": [
    "data = pd.read_csv('/kaggle/input/80-cereals/cereal.csv')"
   ]
  },
  {
   "cell_type": "markdown",
   "id": "ec8c9207",
   "metadata": {
    "papermill": {
     "duration": 0.007295,
     "end_time": "2024-05-11T21:34:49.086521",
     "exception": false,
     "start_time": "2024-05-11T21:34:49.079226",
     "status": "completed"
    },
    "tags": []
   },
   "source": [
    "# Data Exploration"
   ]
  },
  {
   "cell_type": "code",
   "execution_count": 3,
   "id": "67e3bbca",
   "metadata": {
    "execution": {
     "iopub.execute_input": "2024-05-11T21:34:49.103320Z",
     "iopub.status.busy": "2024-05-11T21:34:49.102487Z",
     "iopub.status.idle": "2024-05-11T21:34:49.137822Z",
     "shell.execute_reply": "2024-05-11T21:34:49.135358Z"
    },
    "papermill": {
     "duration": 0.046851,
     "end_time": "2024-05-11T21:34:49.140592",
     "exception": false,
     "start_time": "2024-05-11T21:34:49.093741",
     "status": "completed"
    },
    "tags": []
   },
   "outputs": [
    {
     "data": {
      "text/html": [
       "<div>\n",
       "<style scoped>\n",
       "    .dataframe tbody tr th:only-of-type {\n",
       "        vertical-align: middle;\n",
       "    }\n",
       "\n",
       "    .dataframe tbody tr th {\n",
       "        vertical-align: top;\n",
       "    }\n",
       "\n",
       "    .dataframe thead th {\n",
       "        text-align: right;\n",
       "    }\n",
       "</style>\n",
       "<table border=\"1\" class=\"dataframe\">\n",
       "  <thead>\n",
       "    <tr style=\"text-align: right;\">\n",
       "      <th></th>\n",
       "      <th>name</th>\n",
       "      <th>mfr</th>\n",
       "      <th>type</th>\n",
       "      <th>calories</th>\n",
       "      <th>protein</th>\n",
       "      <th>fat</th>\n",
       "      <th>sodium</th>\n",
       "      <th>fiber</th>\n",
       "      <th>carbo</th>\n",
       "      <th>sugars</th>\n",
       "      <th>potass</th>\n",
       "      <th>vitamins</th>\n",
       "      <th>shelf</th>\n",
       "      <th>weight</th>\n",
       "      <th>cups</th>\n",
       "      <th>rating</th>\n",
       "    </tr>\n",
       "  </thead>\n",
       "  <tbody>\n",
       "    <tr>\n",
       "      <th>0</th>\n",
       "      <td>100% Bran</td>\n",
       "      <td>N</td>\n",
       "      <td>C</td>\n",
       "      <td>70</td>\n",
       "      <td>4</td>\n",
       "      <td>1</td>\n",
       "      <td>130</td>\n",
       "      <td>10.0</td>\n",
       "      <td>5.0</td>\n",
       "      <td>6</td>\n",
       "      <td>280</td>\n",
       "      <td>25</td>\n",
       "      <td>3</td>\n",
       "      <td>1.0</td>\n",
       "      <td>0.33</td>\n",
       "      <td>68.402973</td>\n",
       "    </tr>\n",
       "    <tr>\n",
       "      <th>1</th>\n",
       "      <td>100% Natural Bran</td>\n",
       "      <td>Q</td>\n",
       "      <td>C</td>\n",
       "      <td>120</td>\n",
       "      <td>3</td>\n",
       "      <td>5</td>\n",
       "      <td>15</td>\n",
       "      <td>2.0</td>\n",
       "      <td>8.0</td>\n",
       "      <td>8</td>\n",
       "      <td>135</td>\n",
       "      <td>0</td>\n",
       "      <td>3</td>\n",
       "      <td>1.0</td>\n",
       "      <td>1.00</td>\n",
       "      <td>33.983679</td>\n",
       "    </tr>\n",
       "    <tr>\n",
       "      <th>2</th>\n",
       "      <td>All-Bran</td>\n",
       "      <td>K</td>\n",
       "      <td>C</td>\n",
       "      <td>70</td>\n",
       "      <td>4</td>\n",
       "      <td>1</td>\n",
       "      <td>260</td>\n",
       "      <td>9.0</td>\n",
       "      <td>7.0</td>\n",
       "      <td>5</td>\n",
       "      <td>320</td>\n",
       "      <td>25</td>\n",
       "      <td>3</td>\n",
       "      <td>1.0</td>\n",
       "      <td>0.33</td>\n",
       "      <td>59.425505</td>\n",
       "    </tr>\n",
       "    <tr>\n",
       "      <th>3</th>\n",
       "      <td>All-Bran with Extra Fiber</td>\n",
       "      <td>K</td>\n",
       "      <td>C</td>\n",
       "      <td>50</td>\n",
       "      <td>4</td>\n",
       "      <td>0</td>\n",
       "      <td>140</td>\n",
       "      <td>14.0</td>\n",
       "      <td>8.0</td>\n",
       "      <td>0</td>\n",
       "      <td>330</td>\n",
       "      <td>25</td>\n",
       "      <td>3</td>\n",
       "      <td>1.0</td>\n",
       "      <td>0.50</td>\n",
       "      <td>93.704912</td>\n",
       "    </tr>\n",
       "    <tr>\n",
       "      <th>4</th>\n",
       "      <td>Almond Delight</td>\n",
       "      <td>R</td>\n",
       "      <td>C</td>\n",
       "      <td>110</td>\n",
       "      <td>2</td>\n",
       "      <td>2</td>\n",
       "      <td>200</td>\n",
       "      <td>1.0</td>\n",
       "      <td>14.0</td>\n",
       "      <td>8</td>\n",
       "      <td>-1</td>\n",
       "      <td>25</td>\n",
       "      <td>3</td>\n",
       "      <td>1.0</td>\n",
       "      <td>0.75</td>\n",
       "      <td>34.384843</td>\n",
       "    </tr>\n",
       "  </tbody>\n",
       "</table>\n",
       "</div>"
      ],
      "text/plain": [
       "                        name mfr type  calories  protein  fat  sodium  fiber  \\\n",
       "0                  100% Bran   N    C        70        4    1     130   10.0   \n",
       "1          100% Natural Bran   Q    C       120        3    5      15    2.0   \n",
       "2                   All-Bran   K    C        70        4    1     260    9.0   \n",
       "3  All-Bran with Extra Fiber   K    C        50        4    0     140   14.0   \n",
       "4             Almond Delight   R    C       110        2    2     200    1.0   \n",
       "\n",
       "   carbo  sugars  potass  vitamins  shelf  weight  cups     rating  \n",
       "0    5.0       6     280        25      3     1.0  0.33  68.402973  \n",
       "1    8.0       8     135         0      3     1.0  1.00  33.983679  \n",
       "2    7.0       5     320        25      3     1.0  0.33  59.425505  \n",
       "3    8.0       0     330        25      3     1.0  0.50  93.704912  \n",
       "4   14.0       8      -1        25      3     1.0  0.75  34.384843  "
      ]
     },
     "execution_count": 3,
     "metadata": {},
     "output_type": "execute_result"
    }
   ],
   "source": [
    "data.head()"
   ]
  },
  {
   "cell_type": "code",
   "execution_count": 4,
   "id": "b970317d",
   "metadata": {
    "execution": {
     "iopub.execute_input": "2024-05-11T21:34:49.161253Z",
     "iopub.status.busy": "2024-05-11T21:34:49.160431Z",
     "iopub.status.idle": "2024-05-11T21:34:49.288910Z",
     "shell.execute_reply": "2024-05-11T21:34:49.287291Z"
    },
    "papermill": {
     "duration": 0.141884,
     "end_time": "2024-05-11T21:34:49.292837",
     "exception": false,
     "start_time": "2024-05-11T21:34:49.150953",
     "status": "completed"
    },
    "tags": []
   },
   "outputs": [
    {
     "name": "stdout",
     "output_type": "stream",
     "text": [
      "<class 'pandas.core.frame.DataFrame'>\n",
      "RangeIndex: 77 entries, 0 to 76\n",
      "Data columns (total 16 columns):\n",
      " #   Column    Non-Null Count  Dtype  \n",
      "---  ------    --------------  -----  \n",
      " 0   name      77 non-null     object \n",
      " 1   mfr       77 non-null     object \n",
      " 2   type      77 non-null     object \n",
      " 3   calories  77 non-null     int64  \n",
      " 4   protein   77 non-null     int64  \n",
      " 5   fat       77 non-null     int64  \n",
      " 6   sodium    77 non-null     int64  \n",
      " 7   fiber     77 non-null     float64\n",
      " 8   carbo     77 non-null     float64\n",
      " 9   sugars    77 non-null     int64  \n",
      " 10  potass    77 non-null     int64  \n",
      " 11  vitamins  77 non-null     int64  \n",
      " 12  shelf     77 non-null     int64  \n",
      " 13  weight    77 non-null     float64\n",
      " 14  cups      77 non-null     float64\n",
      " 15  rating    77 non-null     float64\n",
      "dtypes: float64(5), int64(8), object(3)\n",
      "memory usage: 9.8+ KB\n"
     ]
    }
   ],
   "source": [
    "data.info()"
   ]
  },
  {
   "cell_type": "markdown",
   "id": "a983b9ef",
   "metadata": {
    "papermill": {
     "duration": 0.008078,
     "end_time": "2024-05-11T21:34:49.310434",
     "exception": false,
     "start_time": "2024-05-11T21:34:49.302356",
     "status": "completed"
    },
    "tags": []
   },
   "source": [
    "# Data Cleaning"
   ]
  },
  {
   "cell_type": "code",
   "execution_count": 5,
   "id": "f3ccacff",
   "metadata": {
    "execution": {
     "iopub.execute_input": "2024-05-11T21:34:49.332554Z",
     "iopub.status.busy": "2024-05-11T21:34:49.330976Z",
     "iopub.status.idle": "2024-05-11T21:34:49.341855Z",
     "shell.execute_reply": "2024-05-11T21:34:49.340717Z"
    },
    "papermill": {
     "duration": 0.02481,
     "end_time": "2024-05-11T21:34:49.344126",
     "exception": false,
     "start_time": "2024-05-11T21:34:49.319316",
     "status": "completed"
    },
    "tags": []
   },
   "outputs": [
    {
     "data": {
      "text/plain": [
       "name        0\n",
       "mfr         0\n",
       "type        0\n",
       "calories    0\n",
       "protein     0\n",
       "fat         0\n",
       "sodium      0\n",
       "fiber       0\n",
       "carbo       0\n",
       "sugars      0\n",
       "potass      0\n",
       "vitamins    0\n",
       "shelf       0\n",
       "weight      0\n",
       "cups        0\n",
       "rating      0\n",
       "dtype: int64"
      ]
     },
     "execution_count": 5,
     "metadata": {},
     "output_type": "execute_result"
    }
   ],
   "source": [
    "missing_values_count = data.isnull().sum()\n",
    "missing_values_count[:]"
   ]
  },
  {
   "cell_type": "markdown",
   "id": "61509d57",
   "metadata": {
    "papermill": {
     "duration": 0.007556,
     "end_time": "2024-05-11T21:34:49.359662",
     "exception": false,
     "start_time": "2024-05-11T21:34:49.352106",
     "status": "completed"
    },
    "tags": []
   },
   "source": [
    "# Data Fixing"
   ]
  },
  {
   "cell_type": "code",
   "execution_count": 6,
   "id": "681ae2b7",
   "metadata": {
    "execution": {
     "iopub.execute_input": "2024-05-11T21:34:49.377843Z",
     "iopub.status.busy": "2024-05-11T21:34:49.376547Z",
     "iopub.status.idle": "2024-05-11T21:34:49.383341Z",
     "shell.execute_reply": "2024-05-11T21:34:49.382486Z"
    },
    "papermill": {
     "duration": 0.018358,
     "end_time": "2024-05-11T21:34:49.385929",
     "exception": false,
     "start_time": "2024-05-11T21:34:49.367571",
     "status": "completed"
    },
    "tags": []
   },
   "outputs": [],
   "source": [
    "data.rename(columns={'mfr':'manufacturer'}, inplace = True)"
   ]
  },
  {
   "cell_type": "code",
   "execution_count": 7,
   "id": "0fd7c84c",
   "metadata": {
    "execution": {
     "iopub.execute_input": "2024-05-11T21:34:49.405003Z",
     "iopub.status.busy": "2024-05-11T21:34:49.403748Z",
     "iopub.status.idle": "2024-05-11T21:34:49.412770Z",
     "shell.execute_reply": "2024-05-11T21:34:49.411616Z"
    },
    "papermill": {
     "duration": 0.021242,
     "end_time": "2024-05-11T21:34:49.415388",
     "exception": false,
     "start_time": "2024-05-11T21:34:49.394146",
     "status": "completed"
    },
    "tags": []
   },
   "outputs": [
    {
     "name": "stdout",
     "output_type": "stream",
     "text": [
      "name\n",
      "100% Bran                                 1\n",
      "Nutri-Grain Almond-Raisin                 1\n",
      "Quaker Oat Squares                        1\n",
      "Puffed Wheat                              1\n",
      "Puffed Rice                               1\n",
      "Product 19                                1\n",
      "Post Nat. Raisin Bran                     1\n",
      "Oatmeal Raisin Crisp                      1\n",
      "Nutri-grain Wheat                         1\n",
      "Nut&Honey Crunch                          1\n",
      "Just Right Fruit & Nut                    1\n",
      "Multi-Grain Cheerios                      1\n",
      "Mueslix Crispy Blend                      1\n",
      "Muesli Raisins; Peaches; & Pecans         1\n",
      "Muesli Raisins; Dates; & Almonds          1\n",
      "Maypo                                     1\n",
      "Lucky Charms                              1\n",
      "Life                                      1\n",
      "Quaker Oatmeal                            1\n",
      "Raisin Bran                               1\n",
      "Raisin Nut Bran                           1\n",
      "Raisin Squares                            1\n",
      "Wheaties                                  1\n",
      "Wheat Chex                                1\n",
      "Trix                                      1\n",
      "Triples                                   1\n",
      "Total Whole Grain                         1\n",
      "Total Raisin Bran                         1\n",
      "Total Corn Flakes                         1\n",
      "Strawberry Fruit Wheats                   1\n",
      "Special K                                 1\n",
      "Smacks                                    1\n",
      "Shredded Wheat spoon size                 1\n",
      "Shredded Wheat 'n'Bran                    1\n",
      "Shredded Wheat                            1\n",
      "Rice Krispies                             1\n",
      "Rice Chex                                 1\n",
      "Kix                                       1\n",
      "Just Right Crunchy  Nuggets               1\n",
      "100% Natural Bran                         1\n",
      "Cap'n'Crunch                              1\n",
      "Corn Pops                                 1\n",
      "Corn Flakes                               1\n",
      "Corn Chex                                 1\n",
      "Cocoa Puffs                               1\n",
      "Clusters                                  1\n",
      "Cinnamon Toast Crunch                     1\n",
      "Cheerios                                  1\n",
      "Bran Flakes                               1\n",
      "Honey-comb                                1\n",
      "Bran Chex                                 1\n",
      "Basic 4                                   1\n",
      "Apple Jacks                               1\n",
      "Apple Cinnamon Cheerios                   1\n",
      "Almond Delight                            1\n",
      "All-Bran with Extra Fiber                 1\n",
      "All-Bran                                  1\n",
      "Count Chocula                             1\n",
      "Cracklin' Oat Bran                        1\n",
      "Cream of Wheat (Quick)                    1\n",
      "Crispix                                   1\n",
      "Honey Nut Cheerios                        1\n",
      "Honey Graham Ohs                          1\n",
      "Great Grains Pecan                        1\n",
      "Grape-Nuts                                1\n",
      "Grape Nuts Flakes                         1\n",
      "Golden Grahams                            1\n",
      "Golden Crisp                              1\n",
      "Fruity Pebbles                            1\n",
      "Fruitful Bran                             1\n",
      "Fruit & Fibre Dates; Walnuts; and Oats    1\n",
      "Frosted Mini-Wheats                       1\n",
      "Frosted Flakes                            1\n",
      "Froot Loops                               1\n",
      "Double Chex                               1\n",
      "Crispy Wheat & Raisins                    1\n",
      "Wheaties Honey Gold                       1\n",
      "Name: count, dtype: int64\n"
     ]
    }
   ],
   "source": [
    "unique_values_column1 = data['name'].value_counts()\n",
    "\n",
    "pd.set_option('display.max_rows', None)\n",
    "print(unique_values_column1)"
   ]
  },
  {
   "cell_type": "code",
   "execution_count": 8,
   "id": "2345fc72",
   "metadata": {
    "execution": {
     "iopub.execute_input": "2024-05-11T21:34:49.433637Z",
     "iopub.status.busy": "2024-05-11T21:34:49.432894Z",
     "iopub.status.idle": "2024-05-11T21:34:49.439279Z",
     "shell.execute_reply": "2024-05-11T21:34:49.438345Z"
    },
    "papermill": {
     "duration": 0.018562,
     "end_time": "2024-05-11T21:34:49.441872",
     "exception": false,
     "start_time": "2024-05-11T21:34:49.423310",
     "status": "completed"
    },
    "tags": []
   },
   "outputs": [],
   "source": [
    "new_names = {'protein': 'protein (g)', 'fat': 'fat (g)','sodium': 'sodium (mg)','fiber':'fiber (g)','carbo':'carbohydrates (g)','sugars':'sugars (g)','potass':'potassium (mg)','vitamins': 'vitamins %', 'weight':'weight (oz/serv)','cups': 'cups/serv'}\n",
    "data = data.rename(columns=new_names)"
   ]
  },
  {
   "cell_type": "code",
   "execution_count": 9,
   "id": "2b274f3b",
   "metadata": {
    "execution": {
     "iopub.execute_input": "2024-05-11T21:34:49.460980Z",
     "iopub.status.busy": "2024-05-11T21:34:49.459787Z",
     "iopub.status.idle": "2024-05-11T21:34:49.469281Z",
     "shell.execute_reply": "2024-05-11T21:34:49.468425Z"
    },
    "papermill": {
     "duration": 0.021703,
     "end_time": "2024-05-11T21:34:49.471887",
     "exception": false,
     "start_time": "2024-05-11T21:34:49.450184",
     "status": "completed"
    },
    "tags": []
   },
   "outputs": [],
   "source": [
    "data['manufacturer'] = data['manufacturer'].replace({'A':'American Home Food Products','G':'General Mills','K' : 'Kelloggs','N' : 'Nabisco','P' : 'Post','Q' : 'Quaker Oats', 'R' : 'Ralston Purina'})\n"
   ]
  },
  {
   "cell_type": "code",
   "execution_count": 10,
   "id": "3130281f",
   "metadata": {
    "execution": {
     "iopub.execute_input": "2024-05-11T21:34:49.489845Z",
     "iopub.status.busy": "2024-05-11T21:34:49.489443Z",
     "iopub.status.idle": "2024-05-11T21:34:49.495667Z",
     "shell.execute_reply": "2024-05-11T21:34:49.494570Z"
    },
    "papermill": {
     "duration": 0.018286,
     "end_time": "2024-05-11T21:34:49.497937",
     "exception": false,
     "start_time": "2024-05-11T21:34:49.479651",
     "status": "completed"
    },
    "tags": []
   },
   "outputs": [],
   "source": [
    "data['type'] = data['type'].replace({'C':'Cold','H':'Hot'})"
   ]
  },
  {
   "cell_type": "markdown",
   "id": "5bea7575",
   "metadata": {
    "papermill": {
     "duration": 0.007857,
     "end_time": "2024-05-11T21:34:49.513666",
     "exception": false,
     "start_time": "2024-05-11T21:34:49.505809",
     "status": "completed"
    },
    "tags": []
   },
   "source": [
    "# Preparing data for Analysis"
   ]
  },
  {
   "cell_type": "code",
   "execution_count": 11,
   "id": "3c7bddf0",
   "metadata": {
    "execution": {
     "iopub.execute_input": "2024-05-11T21:34:49.539908Z",
     "iopub.status.busy": "2024-05-11T21:34:49.539250Z",
     "iopub.status.idle": "2024-05-11T21:34:49.550296Z",
     "shell.execute_reply": "2024-05-11T21:34:49.547498Z"
    },
    "papermill": {
     "duration": 0.026086,
     "end_time": "2024-05-11T21:34:49.553173",
     "exception": false,
     "start_time": "2024-05-11T21:34:49.527087",
     "status": "completed"
    },
    "tags": []
   },
   "outputs": [],
   "source": [
    "# Get the 10 most caloric cereals \n",
    "more_caloric_cereals = data.sort_values(by= 'calories', ascending = False)\n",
    "top10_caloric_cereals = more_caloric_cereals.head(10)"
   ]
  },
  {
   "cell_type": "code",
   "execution_count": 12,
   "id": "1dec992d",
   "metadata": {
    "execution": {
     "iopub.execute_input": "2024-05-11T21:34:49.572146Z",
     "iopub.status.busy": "2024-05-11T21:34:49.571337Z",
     "iopub.status.idle": "2024-05-11T21:34:49.577527Z",
     "shell.execute_reply": "2024-05-11T21:34:49.576623Z"
    },
    "papermill": {
     "duration": 0.018048,
     "end_time": "2024-05-11T21:34:49.579906",
     "exception": false,
     "start_time": "2024-05-11T21:34:49.561858",
     "status": "completed"
    },
    "tags": []
   },
   "outputs": [],
   "source": [
    "# Get the 10 less caloric cereals and store it in a variable\n",
    "less_caloric_cereals = data.sort_values(by= 'calories', ascending = True)\n",
    "the10_less_caloric_cereals = less_caloric_cereals.head(10)"
   ]
  },
  {
   "cell_type": "markdown",
   "id": "6caba594",
   "metadata": {
    "papermill": {
     "duration": 0.007569,
     "end_time": "2024-05-11T21:34:49.595352",
     "exception": false,
     "start_time": "2024-05-11T21:34:49.587783",
     "status": "completed"
    },
    "tags": []
   },
   "source": [
    "# Visualization"
   ]
  },
  {
   "cell_type": "code",
   "execution_count": 13,
   "id": "aae7d0c2",
   "metadata": {
    "execution": {
     "iopub.execute_input": "2024-05-11T21:34:49.613186Z",
     "iopub.status.busy": "2024-05-11T21:34:49.612187Z",
     "iopub.status.idle": "2024-05-11T21:34:50.271859Z",
     "shell.execute_reply": "2024-05-11T21:34:50.270684Z"
    },
    "papermill": {
     "duration": 0.671361,
     "end_time": "2024-05-11T21:34:50.274498",
     "exception": false,
     "start_time": "2024-05-11T21:34:49.603137",
     "status": "completed"
    },
    "tags": []
   },
   "outputs": [
    {
     "data": {
      "text/plain": [
       "<matplotlib.legend.Legend at 0x7a37076ad330>"
      ]
     },
     "execution_count": 13,
     "metadata": {},
     "output_type": "execute_result"
    },
    {
     "data": {
      "image/png": "[encoded data removed]",
      "text/plain": [
       "<Figure size 1000x600 with 1 Axes>"
      ]
     },
     "metadata": {},
     "output_type": "display_data"
    }
   ],
   "source": [
    "plt.figure(figsize=(10,6))\n",
    "plt.barh(top10_caloric_cereals['name'],top10_caloric_cereals['calories'], color = 'red', label = 'Top 10 caloric cereals')\n",
    "plt.barh(the10_less_caloric_cereals['name'], the10_less_caloric_cereals['calories'], color = 'green', label = 'Bottom 10 caloric cereals')\n",
    "plt.xlabel('Calories')\n",
    "plt.ylabel('Cereal')\n",
    "plt.title('Comparison between the 10 most and the 10 less caloric cereals')\n",
    "plt.legend()"
   ]
  },
  {
   "cell_type": "code",
   "execution_count": 14,
   "id": "76a7a0ca",
   "metadata": {
    "execution": {
     "iopub.execute_input": "2024-05-11T21:34:50.295904Z",
     "iopub.status.busy": "2024-05-11T21:34:50.295018Z",
     "iopub.status.idle": "2024-05-11T21:34:50.308363Z",
     "shell.execute_reply": "2024-05-11T21:34:50.306905Z"
    },
    "papermill": {
     "duration": 0.027121,
     "end_time": "2024-05-11T21:34:50.310949",
     "exception": false,
     "start_time": "2024-05-11T21:34:50.283828",
     "status": "completed"
    },
    "tags": []
   },
   "outputs": [
    {
     "name": "stdout",
     "output_type": "stream",
     "text": [
      "                   protein (g)   fat (g)  carbohydrates (g)  sugars (g)  \\\n",
      "protein (g)           1.000000  0.208431          -0.130864   -0.329142   \n",
      "fat (g)               0.208431  1.000000          -0.318043    0.270819   \n",
      "carbohydrates (g)    -0.130864 -0.318043           1.000000   -0.331665   \n",
      "sugars (g)           -0.329142  0.270819          -0.331665    1.000000   \n",
      "fiber (g)             0.500330  0.016719          -0.356083   -0.141205   \n",
      "\n",
      "                   fiber (g)  \n",
      "protein (g)         0.500330  \n",
      "fat (g)             0.016719  \n",
      "carbohydrates (g)  -0.356083  \n",
      "sugars (g)         -0.141205  \n",
      "fiber (g)           1.000000  \n"
     ]
    }
   ],
   "source": [
    "nutrients = data[['protein (g)','fat (g)', 'carbohydrates (g)', 'sugars (g)', 'fiber (g)']]\n",
    "correlation = nutrients.corr()\n",
    "print(correlation)\n"
   ]
  },
  {
   "cell_type": "code",
   "execution_count": 15,
   "id": "bc4f8c93",
   "metadata": {
    "execution": {
     "iopub.execute_input": "2024-05-11T21:34:50.332691Z",
     "iopub.status.busy": "2024-05-11T21:34:50.332276Z",
     "iopub.status.idle": "2024-05-11T21:34:50.765559Z",
     "shell.execute_reply": "2024-05-11T21:34:50.764482Z"
    },
    "papermill": {
     "duration": 0.447709,
     "end_time": "2024-05-11T21:34:50.768539",
     "exception": false,
     "start_time": "2024-05-11T21:34:50.320830",
     "status": "completed"
    },
    "tags": []
   },
   "outputs": [
    {
     "data": {
      "image/png": "[encoded data removed]",
      "text/plain": [
       "<Figure size 1000x600 with 2 Axes>"
      ]
     },
     "metadata": {},
     "output_type": "display_data"
    }
   ],
   "source": [
    "plt.figure(figsize=(10,6))\n",
    "sns.heatmap(correlation, annot=True, cmap='coolwarm',fmt=\".2f\")\n",
    "plt.title('Matrix Correlation Between Nutrients')\n",
    "plt.show()"
   ]
  }
 ],
 "metadata": {
  "kaggle": {
   "accelerator": "none",
   "dataSources": [
    {
     "datasetId": 2021,
     "sourceId": 5514,
     "sourceType": "datasetVersion"
    },
    {
     "datasetId": 85351,
     "sourceId": 196980,
     "sourceType": "datasetVersion"
    },
    {
     "datasetId": 3145927,
     "sourceId": 5440352,
     "sourceType": "datasetVersion"
    },
    {
     "datasetId": 4427554,
     "sourceId": 7604994,
     "sourceType": "datasetVersion"
    }
   ],
   "dockerImageVersionId": 30615,
   "isGpuEnabled": false,
   "isInternetEnabled": true,
   "language": "python",
   "sourceType": "notebook"
  },
  "kernelspec": {
   "display_name": "Python 3",
   "language": "python",
   "name": "python3"
  },
  "language_info": {
   "codemirror_mode": {
    "name": "ipython",
    "version": 3
   },
   "file_extension": ".py",
   "mimetype": "text/x-python",
   "name": "python",
   "nbconvert_exporter": "python",
   "pygments_lexer": "ipython3",
   "version": "3.10.12"
  },
  "papermill": {
   "default_parameters": {},
   "duration": 9.138283,
   "end_time": "2024-05-11T21:34:51.399900",
   "environment_variables": {},
   "exception": null,
   "input_path": "__notebook__.ipynb",
   "output_path": "__notebook__.ipynb",
   "parameters": {},
   "start_time": "2024-05-11T21:34:42.261617",
   "version": "2.4.0"
  }
 },
 "nbformat": 4,
 "nbformat_minor": 5
}
